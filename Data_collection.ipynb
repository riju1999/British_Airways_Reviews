{
 "cells": [
  {
   "cell_type": "markdown",
   "id": "b7b9ca48",
   "metadata": {},
   "source": [
    "## Data Collection\n",
    "\n",
    "In this phase we will collect the customer ratings data from the airline quality website called [Skytrax](https://www.airlinequality.com/airline-reviews/british-airways). We will collect data about airline ratings, seat ratings and lounge experience ratings from this website. "
   ]
  },
  {
   "cell_type": "code",
   "execution_count": 2,
   "id": "57ae27cb",
   "metadata": {},
   "outputs": [],
   "source": [
    "#imports libraries\n",
    "\n",
    "import pandas as pd\n",
    "import numpy as np\n",
    "from bs4 import BeautifulSoup\n",
    "import requests "
   ]
  },
  {
   "cell_type": "code",
   "execution_count": 50,
   "id": "11fd832d",
   "metadata": {},
   "outputs": [
    {
     "name": "stdout",
     "output_type": "stream",
     "text": [
      "Error on page 31\n",
      "Error on page 32\n",
      "Error on page 32\n",
      "Error on page 35\n",
      "Error on page 35\n"
     ]
    }
   ],
   "source": [
    "# Create empty lists to collect the data\n",
    "reviews = []\n",
    "stars = []\n",
    "date = []\n",
    "country = []\n",
    "\n",
    "for i in range(1, 41):\n",
    "    page = requests.get(f\"https://www.airlinequality.com/airline-reviews/british-airways/page/{i}/?sortby=post_date%3ADesc&pagesize=100\")\n",
    "    soup = BeautifulSoup(page.content, \"html.parser\")  # Use \"html.parser\" instead of \"html5\"\n",
    "    \n",
    "    # Collect reviews\n",
    "    for item in soup.find_all(\"div\", class_=\"text_content\"):\n",
    "        reviews.append(item.text.strip())\n",
    "    \n",
    "    # Collect rating stars\n",
    "    for item in soup.find_all(\"div\", class_=\"rating-10\"):\n",
    "        try:\n",
    "            stars.append(item.span.text.strip())\n",
    "        except:\n",
    "            print(f\"Error on page {i}\")\n",
    "            stars.append(\"None\")\n",
    "            \n",
    "    # Collect date\n",
    "    for item in soup.find_all(\"time\"):\n",
    "        date.append(item.text.strip())\n",
    "        \n",
    "    # Collect country\n",
    "    for item in soup.find_all(\"h3\"):\n",
    "        country.append(item.span.next_sibling.text.strip(\" ()\"))\n"
   ]
  },
  {
   "cell_type": "code",
   "execution_count": 51,
   "id": "5c548fc1",
   "metadata": {},
   "outputs": [
    {
     "name": "stdout",
     "output_type": "stream",
     "text": [
      "3598\n",
      "3638\n",
      "3598\n",
      "3598\n"
     ]
    }
   ],
   "source": [
    "#check the length\n",
    "print(len(reviews))\n",
    "print(len(stars))\n",
    "print(len(date))\n",
    "print(len(country))"
   ]
  },
  {
   "cell_type": "code",
   "execution_count": 52,
   "id": "c81821b2",
   "metadata": {},
   "outputs": [],
   "source": [
    "stars = stars[:3598]"
   ]
  },
  {
   "cell_type": "code",
   "execution_count": 53,
   "id": "ab47b57c",
   "metadata": {},
   "outputs": [],
   "source": [
    "#create  a dataframe from these collected lists of data\n",
    "\n",
    "df = pd.DataFrame({\"reviews\":reviews,\"stars\": stars, \"date\":date, \"country\": country})"
   ]
  },
  {
   "cell_type": "code",
   "execution_count": 55,
   "id": "d526683c",
   "metadata": {},
   "outputs": [
    {
     "data": {
      "text/html": [
       "<div>\n",
       "<style scoped>\n",
       "    .dataframe tbody tr th:only-of-type {\n",
       "        vertical-align: middle;\n",
       "    }\n",
       "\n",
       "    .dataframe tbody tr th {\n",
       "        vertical-align: top;\n",
       "    }\n",
       "\n",
       "    .dataframe thead th {\n",
       "        text-align: right;\n",
       "    }\n",
       "</style>\n",
       "<table border=\"1\" class=\"dataframe\">\n",
       "  <thead>\n",
       "    <tr style=\"text-align: right;\">\n",
       "      <th></th>\n",
       "      <th>reviews</th>\n",
       "      <th>stars</th>\n",
       "      <th>date</th>\n",
       "      <th>country</th>\n",
       "    </tr>\n",
       "  </thead>\n",
       "  <tbody>\n",
       "    <tr>\n",
       "      <th>0</th>\n",
       "      <td>✅ Trip Verified |  My family and I have flown ...</td>\n",
       "      <td>5</td>\n",
       "      <td>9th July 2023</td>\n",
       "      <td>United Kingdom</td>\n",
       "    </tr>\n",
       "    <tr>\n",
       "      <th>1</th>\n",
       "      <td>✅ Trip Verified |  This has been by far the wo...</td>\n",
       "      <td>4</td>\n",
       "      <td>9th July 2023</td>\n",
       "      <td>United States</td>\n",
       "    </tr>\n",
       "    <tr>\n",
       "      <th>2</th>\n",
       "      <td>✅ Trip Verified |  In Nov 2022 I booked and pa...</td>\n",
       "      <td>2</td>\n",
       "      <td>8th July 2023</td>\n",
       "      <td>United Kingdom</td>\n",
       "    </tr>\n",
       "    <tr>\n",
       "      <th>3</th>\n",
       "      <td>Not Verified | BA is not treating its premium ...</td>\n",
       "      <td>2</td>\n",
       "      <td>6th July 2023</td>\n",
       "      <td>United Kingdom</td>\n",
       "    </tr>\n",
       "    <tr>\n",
       "      <th>4</th>\n",
       "      <td>✅ Trip Verified |  24 hours before our departu...</td>\n",
       "      <td>4</td>\n",
       "      <td>5th July 2023</td>\n",
       "      <td>South Africa</td>\n",
       "    </tr>\n",
       "  </tbody>\n",
       "</table>\n",
       "</div>"
      ],
      "text/plain": [
       "                                             reviews stars           date  \\\n",
       "0  ✅ Trip Verified |  My family and I have flown ...     5  9th July 2023   \n",
       "1  ✅ Trip Verified |  This has been by far the wo...     4  9th July 2023   \n",
       "2  ✅ Trip Verified |  In Nov 2022 I booked and pa...     2  8th July 2023   \n",
       "3  Not Verified | BA is not treating its premium ...     2  6th July 2023   \n",
       "4  ✅ Trip Verified |  24 hours before our departu...     4  5th July 2023   \n",
       "\n",
       "          country  \n",
       "0  United Kingdom  \n",
       "1   United States  \n",
       "2  United Kingdom  \n",
       "3  United Kingdom  \n",
       "4    South Africa  "
      ]
     },
     "execution_count": 55,
     "metadata": {},
     "output_type": "execute_result"
    }
   ],
   "source": [
    "df.head()"
   ]
  },
  {
   "cell_type": "code",
   "execution_count": 56,
   "id": "6374909f",
   "metadata": {},
   "outputs": [
    {
     "data": {
      "text/plain": [
       "(3598, 4)"
      ]
     },
     "execution_count": 56,
     "metadata": {},
     "output_type": "execute_result"
    }
   ],
   "source": [
    "df.shape"
   ]
  },
  {
   "cell_type": "code",
   "execution_count": 58,
   "id": "cda3ff7e",
   "metadata": {},
   "outputs": [],
   "source": [
    "# Export the data into a csv format\n",
    "\n",
    "\n",
    "df.to_csv(\"BA_reviews.csv\")"
   ]
  },
  {
   "cell_type": "code",
   "execution_count": null,
   "id": "e80b83f7",
   "metadata": {},
   "outputs": [],
   "source": []
  }
 ],
 "metadata": {
  "kernelspec": {
   "display_name": "Python 3 (ipykernel)",
   "language": "python",
   "name": "python3"
  },
  "language_info": {
   "codemirror_mode": {
    "name": "ipython",
    "version": 3
   },
   "file_extension": ".py",
   "mimetype": "text/x-python",
   "name": "python",
   "nbconvert_exporter": "python",
   "pygments_lexer": "ipython3",
   "version": "3.7.9"
  }
 },
 "nbformat": 4,
 "nbformat_minor": 5
}
